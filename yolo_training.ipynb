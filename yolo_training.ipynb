{
 "cells": [
  {
   "cell_type": "code",
   "execution_count": null,
   "metadata": {},
   "outputs": [],
   "source": [
    "import cv2\n",
    "import mss\n",
    "import numpy as np\n",
    "import matplotlib.pyplot as plt\n",
    "\n",
    "%matplotlib inline\n",
    "\n",
    "sct = mss.mss()\n",
    "\n",
    "def grab_screen_shot():\n",
    "        monitor = sct.monitors[1]\n",
    "        sct_img = sct.grab(monitor)\n",
    "        frame = cv2.cvtColor(np.asarray(sct_img, dtype=np.uint8), cv2.COLOR_RGB2BGR)\n",
    "\n",
    "        #! Adjust me to crop the screen\n",
    "        return frame[536:960, 962:962+636]\n",
    "\n",
    "screen = grab_screen_shot()\n",
    "\n",
    "plt.imshow(screen)"
   ]
  },
  {
   "cell_type": "code",
   "execution_count": null,
   "metadata": {},
   "outputs": [],
   "source": [
    "from ultralytics import YOLO\n",
    "model = YOLO('yolov8n.pt')\n",
    "\n",
    "model.train(data=\"./YoloV8/data.yaml\", \n",
    "            epochs=100, \n",
    "            imgsz=640, \n",
    "            batch=32,\n",
    "            optimizer=\"AdamW\",\n",
    "            amp=True)"
   ]
  },
  {
   "cell_type": "code",
   "execution_count": null,
   "metadata": {},
   "outputs": [],
   "source": [
    "model = YOLO('YoloV8/weights/best.pt')\n",
    "preds = model.predict(screen[:,:,::-1])\n",
    "\n",
    "\n",
    "for pred in preds[0].cpu().boxes.data.numpy():\n",
    "    print(f\"x1: {pred[0]} | y1: {pred[1]} | x2: {pred[2]} | y2: {pred[3]} | confidence: {pred[4]} | class: {pred[5]}\")\n",
    "\n",
    "    area = (pred[2] - pred[0]) * (pred[3] - pred[1])\n",
    "\n",
    "    print(area)"
   ]
  }
 ],
 "metadata": {
  "language_info": {
   "name": "python"
  },
  "orig_nbformat": 4
 },
 "nbformat": 4,
 "nbformat_minor": 2
}
